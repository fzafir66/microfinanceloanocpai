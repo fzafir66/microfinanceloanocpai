{
 "cells": [
  {
   "cell_type": "code",
   "execution_count": 1,
   "id": "5b68ec03-2bf7-4343-bd67-d041081032e1",
   "metadata": {},
   "outputs": [
    {
     "name": "stdout",
     "output_type": "stream",
     "text": [
      "Requirement already satisfied: openshift in /opt/app-root/lib64/python3.11/site-packages (0.13.2)\n",
      "Requirement already satisfied: flask in /opt/app-root/lib64/python3.11/site-packages (3.1.0)\n",
      "Requirement already satisfied: kubernetes>=12.0 in /opt/app-root/lib64/python3.11/site-packages (from openshift) (26.1.0)\n",
      "Requirement already satisfied: python-string-utils in /opt/app-root/lib64/python3.11/site-packages (from openshift) (1.0.0)\n",
      "Requirement already satisfied: six in /opt/app-root/lib64/python3.11/site-packages (from openshift) (1.16.0)\n",
      "Requirement already satisfied: Werkzeug>=3.1 in /opt/app-root/lib64/python3.11/site-packages (from flask) (3.1.3)\n",
      "Requirement already satisfied: Jinja2>=3.1.2 in /opt/app-root/lib64/python3.11/site-packages (from flask) (3.1.4)\n",
      "Requirement already satisfied: itsdangerous>=2.2 in /opt/app-root/lib64/python3.11/site-packages (from flask) (2.2.0)\n",
      "Requirement already satisfied: click>=8.1.3 in /opt/app-root/lib64/python3.11/site-packages (from flask) (8.1.7)\n",
      "Requirement already satisfied: blinker>=1.9 in /opt/app-root/lib64/python3.11/site-packages (from flask) (1.9.0)\n",
      "Requirement already satisfied: MarkupSafe>=2.0 in /opt/app-root/lib64/python3.11/site-packages (from Jinja2>=3.1.2->flask) (3.0.2)\n",
      "Requirement already satisfied: certifi>=14.05.14 in /opt/app-root/lib64/python3.11/site-packages (from kubernetes>=12.0->openshift) (2024.8.30)\n",
      "Requirement already satisfied: python-dateutil>=2.5.3 in /opt/app-root/lib64/python3.11/site-packages (from kubernetes>=12.0->openshift) (2.9.0.post0)\n",
      "Requirement already satisfied: setuptools>=21.0.0 in /opt/app-root/lib64/python3.11/site-packages (from kubernetes>=12.0->openshift) (74.1.3)\n",
      "Requirement already satisfied: pyyaml>=5.4.1 in /opt/app-root/lib64/python3.11/site-packages (from kubernetes>=12.0->openshift) (6.0.2)\n",
      "Requirement already satisfied: google-auth>=1.0.1 in /opt/app-root/lib64/python3.11/site-packages (from kubernetes>=12.0->openshift) (2.36.0)\n",
      "Requirement already satisfied: websocket-client!=0.40.0,!=0.41.*,!=0.42.*,>=0.32.0 in /opt/app-root/lib64/python3.11/site-packages (from kubernetes>=12.0->openshift) (1.8.0)\n",
      "Requirement already satisfied: requests in /opt/app-root/lib64/python3.11/site-packages (from kubernetes>=12.0->openshift) (2.32.3)\n",
      "Requirement already satisfied: requests-oauthlib in /opt/app-root/lib64/python3.11/site-packages (from kubernetes>=12.0->openshift) (2.0.0)\n",
      "Requirement already satisfied: urllib3>=1.24.2 in /opt/app-root/lib64/python3.11/site-packages (from kubernetes>=12.0->openshift) (1.26.20)\n",
      "Requirement already satisfied: cachetools<6.0,>=2.0.0 in /opt/app-root/lib64/python3.11/site-packages (from google-auth>=1.0.1->kubernetes>=12.0->openshift) (5.5.0)\n",
      "Requirement already satisfied: pyasn1-modules>=0.2.1 in /opt/app-root/lib64/python3.11/site-packages (from google-auth>=1.0.1->kubernetes>=12.0->openshift) (0.4.1)\n",
      "Requirement already satisfied: rsa<5,>=3.1.4 in /opt/app-root/lib64/python3.11/site-packages (from google-auth>=1.0.1->kubernetes>=12.0->openshift) (4.9)\n",
      "Requirement already satisfied: charset-normalizer<4,>=2 in /opt/app-root/lib64/python3.11/site-packages (from requests->kubernetes>=12.0->openshift) (3.4.0)\n",
      "Requirement already satisfied: idna<4,>=2.5 in /opt/app-root/lib64/python3.11/site-packages (from requests->kubernetes>=12.0->openshift) (3.10)\n",
      "Requirement already satisfied: oauthlib>=3.0.0 in /opt/app-root/lib64/python3.11/site-packages (from requests-oauthlib->kubernetes>=12.0->openshift) (3.2.2)\n",
      "Requirement already satisfied: pyasn1<0.7.0,>=0.4.6 in /opt/app-root/lib64/python3.11/site-packages (from pyasn1-modules>=0.2.1->google-auth>=1.0.1->kubernetes>=12.0->openshift) (0.6.1)\n",
      "\n",
      "\u001b[1m[\u001b[0m\u001b[34;49mnotice\u001b[0m\u001b[1;39;49m]\u001b[0m\u001b[39;49m A new release of pip is available: \u001b[0m\u001b[31;49m23.2.1\u001b[0m\u001b[39;49m -> \u001b[0m\u001b[32;49m24.3.1\u001b[0m\n",
      "\u001b[1m[\u001b[0m\u001b[34;49mnotice\u001b[0m\u001b[1;39;49m]\u001b[0m\u001b[39;49m To update, run: \u001b[0m\u001b[32;49mpip install --upgrade pip\u001b[0m\n"
     ]
    }
   ],
   "source": [
    "!pip install openshift flask"
   ]
  },
  {
   "cell_type": "code",
   "execution_count": 2,
   "id": "d166c8d6-ff5f-466a-9d0f-1ee28d5d8df7",
   "metadata": {},
   "outputs": [],
   "source": [
    "import os\n",
    "\n",
    "# Create a folder named 'flask_app'\n",
    "os.makedirs('flask_app', exist_ok=True)\n"
   ]
  },
  {
   "cell_type": "code",
   "execution_count": 3,
   "id": "e0ed3e5a-7216-413f-b186-8572bdf3a96c",
   "metadata": {},
   "outputs": [
    {
     "name": "stdout",
     "output_type": "stream",
     "text": [
      "'1. TrainTest.ipynb'\t\t     flask_app.zip\n",
      "'2. SaveModel.ipynb'\t\t     Htmlupdate.ipynb\n",
      "'3. TestAPI.ipynb'\t\t     lost+found\n",
      "'4. TestVicunaAPI.ipynb'\t     models\n",
      "'5. CreditScore.ipynb'\t\t     project_name.zip\n",
      "'6. VicunaExplainLIME.ipynb'\t     result.csv\n",
      " best_model.joblib\t\t     scaler.joblib\n",
      " data\t\t\t\t     training_columns.pkl\n",
      " DevFrontend.ipynb\t\t     TrainVicuna.ipynb\n",
      " feature_explanations_dataset.json   xgb_classifier.onnx\n",
      " flask_app\t\t\t     X_train.csv\n"
     ]
    }
   ],
   "source": [
    "!ls"
   ]
  },
  {
   "cell_type": "code",
   "execution_count": 4,
   "id": "9a668510-4b68-4cfd-86ef-b4a89abc7a5b",
   "metadata": {},
   "outputs": [],
   "source": [
    "flask_app_code = \"\"\"\n",
    "from flask import Flask\n",
    "\n",
    "app = Flask(__name__)\n",
    "\n",
    "@app.route('/')\n",
    "def home():\n",
    "    return \"Hello, OpenShift AI!\"\n",
    "\n",
    "if __name__ == '__main__':\n",
    "    app.run(host='0.0.0.0', port=8080)\n",
    "\"\"\"\n",
    "\n",
    "with open(\"flask_app/app.py\", \"w\") as f:\n",
    "    f.write(flask_app_code)\n"
   ]
  },
  {
   "cell_type": "code",
   "execution_count": 5,
   "id": "c10cb761-3d20-4312-bc84-b8e724b15622",
   "metadata": {},
   "outputs": [],
   "source": [
    "requirements = \"Flask==2.3.3\"\n",
    "with open(\"flask_app/requirements.txt\", \"w\") as f:\n",
    "    f.write(requirements)\n"
   ]
  },
  {
   "cell_type": "code",
   "execution_count": 6,
   "id": "43e5c88f-c714-4908-bc61-97d11762971e",
   "metadata": {},
   "outputs": [],
   "source": [
    "dockerfile_content = \"\"\"\n",
    "FROM python:3.9-slim\n",
    "\n",
    "WORKDIR /app\n",
    "COPY . /app\n",
    "\n",
    "RUN pip install --no-cache-dir -r requirements.txt\n",
    "\n",
    "EXPOSE 8080\n",
    "\n",
    "CMD [\"python\", \"app.py\"]\n",
    "\"\"\"\n",
    "with open(\"flask_app/Dockerfile\", \"w\") as f:\n",
    "    f.write(dockerfile_content)\n"
   ]
  },
  {
   "cell_type": "code",
   "execution_count": 7,
   "id": "031df3f4-457c-4a13-9422-83e4af4e3b4e",
   "metadata": {},
   "outputs": [
    {
     "name": "stdout",
     "output_type": "stream",
     "text": [
      "app.py\tDockerfile  requirements.txt  static  templates\n"
     ]
    }
   ],
   "source": [
    "!ls flask_app\n"
   ]
  },
  {
   "cell_type": "code",
   "execution_count": 8,
   "id": "4b170826-b2e6-4c0b-9c79-b3f423a3c1c3",
   "metadata": {},
   "outputs": [
    {
     "name": "stdout",
     "output_type": "stream",
     "text": [
      "/opt/app-root/src\n"
     ]
    }
   ],
   "source": [
    "!pwd\n"
   ]
  },
  {
   "cell_type": "code",
   "execution_count": 9,
   "id": "d0c46501-a527-4098-8ca6-ca67f1dfe597",
   "metadata": {},
   "outputs": [
    {
     "name": "stdout",
     "output_type": "stream",
     "text": [
      "'1. TrainTest.ipynb'\t\t     flask_app.zip\n",
      "'2. SaveModel.ipynb'\t\t     Htmlupdate.ipynb\n",
      "'3. TestAPI.ipynb'\t\t     lost+found\n",
      "'4. TestVicunaAPI.ipynb'\t     models\n",
      "'5. CreditScore.ipynb'\t\t     project_name.zip\n",
      "'6. VicunaExplainLIME.ipynb'\t     result.csv\n",
      " best_model.joblib\t\t     scaler.joblib\n",
      " data\t\t\t\t     training_columns.pkl\n",
      " DevFrontend.ipynb\t\t     TrainVicuna.ipynb\n",
      " feature_explanations_dataset.json   xgb_classifier.onnx\n",
      " flask_app\t\t\t     X_train.csv\n"
     ]
    }
   ],
   "source": [
    "!ls /opt/app-root/src"
   ]
  },
  {
   "cell_type": "code",
   "execution_count": 10,
   "id": "cf39ee14-d3c3-485f-8d33-13183c288863",
   "metadata": {},
   "outputs": [
    {
     "name": "stdout",
     "output_type": "stream",
     "text": [
      "updating: flask_app/ (stored 0%)\n",
      "updating: flask_app/Dockerfile (deflated 7%)\n",
      "updating: flask_app/app.py (deflated 21%)\n",
      "updating: flask_app/requirements.txt (stored 0%)\n",
      "updating: flask_app/static/ (stored 0%)\n",
      "updating: flask_app/static/style.css (deflated 72%)\n",
      "updating: flask_app/static/.ipynb_checkpoints/ (stored 0%)\n",
      "updating: flask_app/static/.ipynb_checkpoints/style-checkpoint.css (deflated 72%)\n",
      "updating: flask_app/.ipynb_checkpoints/ (stored 0%)\n",
      "updating: flask_app/.ipynb_checkpoints/app-checkpoint.py (deflated 74%)\n",
      "updating: flask_app/templates/ (stored 0%)\n",
      "updating: flask_app/templates/.ipynb_checkpoints/ (stored 0%)\n",
      "updating: flask_app/templates/.ipynb_checkpoints/index-checkpoint.html (deflated 75%)\n",
      "updating: flask_app/templates/index.html (deflated 75%)\n"
     ]
    }
   ],
   "source": [
    "!zip -r flask_app.zip flask_app"
   ]
  },
  {
   "cell_type": "code",
   "execution_count": 27,
   "id": "5915c0f9-f20a-4dc5-9449-ae8a49f7cc6c",
   "metadata": {},
   "outputs": [
    {
     "name": "stdout",
     "output_type": "stream",
     "text": [
      "Collecting flask_session\n",
      "  Obtaining dependency information for flask_session from https://files.pythonhosted.org/packages/67/1b/f085ceebb825d1cfaf078852b67cd248a33af2905f40ba9860cc006d966b/flask_session-0.8.0-py3-none-any.whl.metadata\n",
      "  Downloading flask_session-0.8.0-py3-none-any.whl.metadata (5.2 kB)\n",
      "Requirement already satisfied: flask>=2.2 in /opt/app-root/lib64/python3.11/site-packages (from flask_session) (3.1.0)\n",
      "Collecting msgspec>=0.18.6 (from flask_session)\n",
      "  Obtaining dependency information for msgspec>=0.18.6 from https://files.pythonhosted.org/packages/85/2e/db7e189b57901955239f7689b5dcd6ae9458637a9c66747326726c650523/msgspec-0.19.0-cp311-cp311-manylinux_2_17_x86_64.manylinux2014_x86_64.whl.metadata\n",
      "  Downloading msgspec-0.19.0-cp311-cp311-manylinux_2_17_x86_64.manylinux2014_x86_64.whl.metadata (6.9 kB)\n",
      "Collecting cachelib (from flask_session)\n",
      "  Obtaining dependency information for cachelib from https://files.pythonhosted.org/packages/9b/42/960fc9896ddeb301716fdd554bab7941c35fb90a1dc7260b77df3366f87f/cachelib-0.13.0-py3-none-any.whl.metadata\n",
      "  Downloading cachelib-0.13.0-py3-none-any.whl.metadata (2.0 kB)\n",
      "Requirement already satisfied: Werkzeug>=3.1 in /opt/app-root/lib64/python3.11/site-packages (from flask>=2.2->flask_session) (3.1.3)\n",
      "Requirement already satisfied: Jinja2>=3.1.2 in /opt/app-root/lib64/python3.11/site-packages (from flask>=2.2->flask_session) (3.1.4)\n",
      "Requirement already satisfied: itsdangerous>=2.2 in /opt/app-root/lib64/python3.11/site-packages (from flask>=2.2->flask_session) (2.2.0)\n",
      "Requirement already satisfied: click>=8.1.3 in /opt/app-root/lib64/python3.11/site-packages (from flask>=2.2->flask_session) (8.1.7)\n",
      "Requirement already satisfied: blinker>=1.9 in /opt/app-root/lib64/python3.11/site-packages (from flask>=2.2->flask_session) (1.9.0)\n",
      "Requirement already satisfied: MarkupSafe>=2.0 in /opt/app-root/lib64/python3.11/site-packages (from Jinja2>=3.1.2->flask>=2.2->flask_session) (3.0.2)\n",
      "Downloading flask_session-0.8.0-py3-none-any.whl (24 kB)\n",
      "Downloading msgspec-0.19.0-cp311-cp311-manylinux_2_17_x86_64.manylinux2014_x86_64.whl (210 kB)\n",
      "\u001b[2K   \u001b[90m━━━━━━━━━━━━━━━━━━━━━━━━━━━━━━━━━━━━━━━━\u001b[0m \u001b[32m210.7/210.7 kB\u001b[0m \u001b[31m37.1 MB/s\u001b[0m eta \u001b[36m0:00:00\u001b[0m\n",
      "\u001b[?25hDownloading cachelib-0.13.0-py3-none-any.whl (20 kB)\n",
      "Installing collected packages: msgspec, cachelib, flask_session\n",
      "Successfully installed cachelib-0.13.0 flask_session-0.8.0 msgspec-0.19.0\n",
      "\n",
      "\u001b[1m[\u001b[0m\u001b[34;49mnotice\u001b[0m\u001b[1;39;49m]\u001b[0m\u001b[39;49m A new release of pip is available: \u001b[0m\u001b[31;49m23.2.1\u001b[0m\u001b[39;49m -> \u001b[0m\u001b[32;49m24.3.1\u001b[0m\n",
      "\u001b[1m[\u001b[0m\u001b[34;49mnotice\u001b[0m\u001b[1;39;49m]\u001b[0m\u001b[39;49m To update, run: \u001b[0m\u001b[32;49mpip install --upgrade pip\u001b[0m\n"
     ]
    }
   ],
   "source": [
    "!pip install flask_session"
   ]
  },
  {
   "cell_type": "code",
   "execution_count": null,
   "id": "f5a99c92-ede7-4efa-b8b4-c3b0ad17524b",
   "metadata": {},
   "outputs": [
    {
     "name": "stdout",
     "output_type": "stream",
     "text": [
      " * Serving Flask app 'app'\n",
      " * Debug mode: on\n",
      "\u001b[31m\u001b[1mWARNING: This is a development server. Do not use it in a production deployment. Use a production WSGI server instead.\u001b[0m\n",
      " * Running on all addresses (0.0.0.0)\n",
      " * Running on http://127.0.0.1:5000\n",
      " * Running on http://10.131.0.11:5000\n",
      "\u001b[33mPress CTRL+C to quit\u001b[0m\n",
      " * Restarting with watchdog (inotify)\n",
      " * Debugger is active!\n",
      " * Debugger PIN: 708-607-426\n",
      "127.0.0.1 - - [22/Jan/2025 07:09:25] \"GET / HTTP/1.1\" 200 -\n",
      "127.0.0.1 - - [22/Jan/2025 07:09:25] \"\u001b[33mGET /static/css/styles.css HTTP/1.1\u001b[0m\" 404 -\n",
      "127.0.0.1 - - [22/Jan/2025 07:09:25] \"GET /static/images/Red%20Hat%20Openshift%20AI_0.png HTTP/1.1\" 200 -\n",
      "127.0.0.1 - - [22/Jan/2025 07:09:25] \"GET /static/style.css HTTP/1.1\" 200 -\n",
      "127.0.0.1 - - [22/Jan/2025 07:09:26] \"\u001b[33mGET /favicon.ico HTTP/1.1\u001b[0m\" 404 -\n",
      "Top 3 Features (Clean): ['AMT_INCOME_TOTAL', 'AMT_CREDIT', 'AMT_ANNUITY']\n",
      "Labeled Features (Non-default): ['AMT_INCOME_TOTAL_NEGATIVE', 'AMT_CREDIT_NEGATIVE', 'AMT_ANNUITY_NEGATIVE']\n",
      "127.0.0.1 - - [22/Jan/2025 07:50:33] \"POST / HTTP/1.1\" 200 -\n",
      "127.0.0.1 - - [22/Jan/2025 07:50:33] \"\u001b[36mGET /static/style.css HTTP/1.1\u001b[0m\" 304 -\n",
      "127.0.0.1 - - [22/Jan/2025 07:50:33] \"\u001b[33mGET /static/css/styles.css HTTP/1.1\u001b[0m\" 404 -\n",
      "127.0.0.1 - - [22/Jan/2025 07:50:33] \"\u001b[36mGET /static/images/Red%20Hat%20Openshift%20AI_0.png HTTP/1.1\u001b[0m\" 304 -\n",
      "127.0.0.1 - - [22/Jan/2025 07:52:32] \"GET /explain HTTP/1.1\" 200 -\n",
      "127.0.0.1 - - [22/Jan/2025 07:53:51] \"GET /clear HTTP/1.1\" 200 -\n",
      "127.0.0.1 - - [22/Jan/2025 07:53:51] \"\u001b[33mGET /static/css/styles.css HTTP/1.1\u001b[0m\" 404 -\n",
      "127.0.0.1 - - [22/Jan/2025 07:53:51] \"\u001b[36mGET /static/style.css HTTP/1.1\u001b[0m\" 304 -\n",
      "127.0.0.1 - - [22/Jan/2025 07:53:51] \"\u001b[36mGET /static/images/Red%20Hat%20Openshift%20AI_0.png HTTP/1.1\u001b[0m\" 304 -\n",
      "Top 3 Features (Clean): ['AMT_INCOME_TOTAL', 'AMT_CREDIT', 'AMT_ANNUITY']\n",
      "Labeled Features (Default): ['AMT_INCOME_TOTAL_POSITIVE', 'AMT_CREDIT_POSITIVE', 'AMT_ANNUITY_POSITIVE']\n",
      "127.0.0.1 - - [22/Jan/2025 07:53:55] \"POST / HTTP/1.1\" 200 -\n",
      "127.0.0.1 - - [22/Jan/2025 07:53:56] \"\u001b[33mGET /static/css/styles.css HTTP/1.1\u001b[0m\" 404 -\n",
      "127.0.0.1 - - [22/Jan/2025 07:53:56] \"\u001b[36mGET /static/images/Red%20Hat%20Openshift%20AI_0.png HTTP/1.1\u001b[0m\" 304 -\n",
      "127.0.0.1 - - [22/Jan/2025 07:53:56] \"\u001b[36mGET /static/style.css HTTP/1.1\u001b[0m\" 304 -\n",
      "127.0.0.1 - - [22/Jan/2025 07:54:36] \"GET /explain HTTP/1.1\" 200 -\n",
      "127.0.0.1 - - [22/Jan/2025 08:16:57] \"GET /clear HTTP/1.1\" 200 -\n",
      "127.0.0.1 - - [22/Jan/2025 08:16:57] \"\u001b[36mGET /static/style.css HTTP/1.1\u001b[0m\" 304 -\n",
      "127.0.0.1 - - [22/Jan/2025 08:16:57] \"\u001b[33mGET /static/css/styles.css HTTP/1.1\u001b[0m\" 404 -\n",
      "127.0.0.1 - - [22/Jan/2025 08:16:57] \"\u001b[36mGET /static/images/Red%20Hat%20Openshift%20AI_0.png HTTP/1.1\u001b[0m\" 304 -\n",
      "Top 3 Features (Clean): ['AMT_INCOME_TOTAL', 'AMT_CREDIT', 'AMT_ANNUITY']\n",
      "Labeled Features (Default): ['AMT_INCOME_TOTAL_POSITIVE', 'AMT_CREDIT_POSITIVE', 'AMT_ANNUITY_POSITIVE']\n",
      "127.0.0.1 - - [22/Jan/2025 08:17:05] \"POST / HTTP/1.1\" 200 -\n",
      "127.0.0.1 - - [22/Jan/2025 08:17:05] \"\u001b[33mGET /static/css/styles.css HTTP/1.1\u001b[0m\" 404 -\n",
      "127.0.0.1 - - [22/Jan/2025 08:17:05] \"\u001b[36mGET /static/style.css HTTP/1.1\u001b[0m\" 304 -\n",
      "127.0.0.1 - - [22/Jan/2025 08:17:05] \"\u001b[36mGET /static/images/Red%20Hat%20Openshift%20AI_0.png HTTP/1.1\u001b[0m\" 304 -\n",
      "127.0.0.1 - - [22/Jan/2025 08:17:51] \"GET /explain HTTP/1.1\" 200 -\n",
      "127.0.0.1 - - [22/Jan/2025 08:21:28] \"GET /clear HTTP/1.1\" 200 -\n",
      "127.0.0.1 - - [22/Jan/2025 08:21:28] \"\u001b[36mGET /static/style.css HTTP/1.1\u001b[0m\" 304 -\n",
      "127.0.0.1 - - [22/Jan/2025 08:21:28] \"\u001b[33mGET /static/css/styles.css HTTP/1.1\u001b[0m\" 404 -\n",
      "127.0.0.1 - - [22/Jan/2025 08:21:28] \"\u001b[36mGET /static/images/Red%20Hat%20Openshift%20AI_0.png HTTP/1.1\u001b[0m\" 304 -\n",
      "Top 3 Features (Clean): ['AMT_INCOME_TOTAL', 'AMT_CREDIT', 'AMT_ANNUITY']\n",
      "Labeled Features (Non-default): ['AMT_INCOME_TOTAL_NEGATIVE', 'AMT_CREDIT_NEGATIVE', 'AMT_ANNUITY_NEGATIVE']\n",
      "127.0.0.1 - - [22/Jan/2025 08:32:37] \"POST / HTTP/1.1\" 200 -\n",
      "127.0.0.1 - - [22/Jan/2025 08:32:37] \"\u001b[36mGET /static/style.css HTTP/1.1\u001b[0m\" 304 -\n",
      "127.0.0.1 - - [22/Jan/2025 08:32:37] \"\u001b[33mGET /static/css/styles.css HTTP/1.1\u001b[0m\" 404 -\n",
      "127.0.0.1 - - [22/Jan/2025 08:32:37] \"\u001b[36mGET /static/images/Red%20Hat%20Openshift%20AI_0.png HTTP/1.1\u001b[0m\" 304 -\n",
      "127.0.0.1 - - [22/Jan/2025 08:34:39] \"GET /explain HTTP/1.1\" 200 -\n",
      "127.0.0.1 - - [22/Jan/2025 08:35:19] \"GET /clear HTTP/1.1\" 200 -\n",
      "127.0.0.1 - - [22/Jan/2025 08:35:20] \"\u001b[33mGET /static/css/styles.css HTTP/1.1\u001b[0m\" 404 -\n",
      "127.0.0.1 - - [22/Jan/2025 08:35:20] \"\u001b[36mGET /static/style.css HTTP/1.1\u001b[0m\" 304 -\n",
      "127.0.0.1 - - [22/Jan/2025 08:35:20] \"\u001b[36mGET /static/images/Red%20Hat%20Openshift%20AI_0.png HTTP/1.1\u001b[0m\" 304 -\n",
      "Top 3 Features (Clean): ['AMT_ANNUITY', 'AMT_CREDIT', 'AMT_INCOME_TOTAL']\n",
      "Labeled Features (Default): ['AMT_ANNUITY_POSITIVE', 'AMT_CREDIT_POSITIVE', 'AMT_INCOME_TOTAL_POSITIVE']\n",
      "127.0.0.1 - - [22/Jan/2025 08:35:56] \"POST / HTTP/1.1\" 200 -\n",
      "127.0.0.1 - - [22/Jan/2025 08:35:56] \"\u001b[33mGET /static/css/styles.css HTTP/1.1\u001b[0m\" 404 -\n",
      "127.0.0.1 - - [22/Jan/2025 08:35:56] \"\u001b[36mGET /static/style.css HTTP/1.1\u001b[0m\" 304 -\n",
      "127.0.0.1 - - [22/Jan/2025 08:35:56] \"\u001b[36mGET /static/images/Red%20Hat%20Openshift%20AI_0.png HTTP/1.1\u001b[0m\" 304 -\n",
      "127.0.0.1 - - [22/Jan/2025 08:37:04] \"GET /explain HTTP/1.1\" 200 -\n"
     ]
    }
   ],
   "source": [
    "!python flask_app/app.py"
   ]
  },
  {
   "cell_type": "code",
   "execution_count": null,
   "id": "8915ac6b-dc33-45fc-8112-93ba39924dce",
   "metadata": {},
   "outputs": [],
   "source": []
  }
 ],
 "metadata": {
  "kernelspec": {
   "display_name": "Python 3.11",
   "language": "python",
   "name": "python3"
  },
  "language_info": {
   "codemirror_mode": {
    "name": "ipython",
    "version": 3
   },
   "file_extension": ".py",
   "mimetype": "text/x-python",
   "name": "python",
   "nbconvert_exporter": "python",
   "pygments_lexer": "ipython3",
   "version": "3.11.7"
  }
 },
 "nbformat": 4,
 "nbformat_minor": 5
}
