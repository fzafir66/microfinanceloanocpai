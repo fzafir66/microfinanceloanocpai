{
 "cells": [
  {
   "cell_type": "code",
   "execution_count": 1,
   "id": "a076027b-633e-45f5-af08-0929db0399b6",
   "metadata": {},
   "outputs": [
    {
     "name": "stdout",
     "output_type": "stream",
     "text": [
      "Requirement already satisfied: transformers in /opt/app-root/lib64/python3.11/site-packages (4.48.0)\n",
      "Requirement already satisfied: filelock in /opt/app-root/lib64/python3.11/site-packages (from transformers) (3.16.1)\n",
      "Requirement already satisfied: huggingface-hub<1.0,>=0.24.0 in /opt/app-root/lib64/python3.11/site-packages (from transformers) (0.26.2)\n",
      "Requirement already satisfied: numpy>=1.17 in /opt/app-root/lib64/python3.11/site-packages (from transformers) (1.24.4)\n",
      "Requirement already satisfied: packaging>=20.0 in /opt/app-root/lib64/python3.11/site-packages (from transformers) (24.1)\n",
      "Requirement already satisfied: pyyaml>=5.1 in /opt/app-root/lib64/python3.11/site-packages (from transformers) (6.0.2)\n",
      "Requirement already satisfied: regex!=2019.12.17 in /opt/app-root/lib64/python3.11/site-packages (from transformers) (2024.11.6)\n",
      "Requirement already satisfied: requests in /opt/app-root/lib64/python3.11/site-packages (from transformers) (2.32.3)\n",
      "Requirement already satisfied: tokenizers<0.22,>=0.21 in /opt/app-root/lib64/python3.11/site-packages (from transformers) (0.21.0)\n",
      "Requirement already satisfied: safetensors>=0.4.1 in /opt/app-root/lib64/python3.11/site-packages (from transformers) (0.4.6.dev0)\n",
      "Requirement already satisfied: tqdm>=4.27 in /opt/app-root/lib64/python3.11/site-packages (from transformers) (4.67.0)\n",
      "Requirement already satisfied: fsspec>=2023.5.0 in /opt/app-root/lib64/python3.11/site-packages (from huggingface-hub<1.0,>=0.24.0->transformers) (2024.6.1)\n",
      "Requirement already satisfied: typing-extensions>=3.7.4.3 in /opt/app-root/lib64/python3.11/site-packages (from huggingface-hub<1.0,>=0.24.0->transformers) (4.12.2)\n",
      "Requirement already satisfied: charset-normalizer<4,>=2 in /opt/app-root/lib64/python3.11/site-packages (from requests->transformers) (3.4.0)\n",
      "Requirement already satisfied: idna<4,>=2.5 in /opt/app-root/lib64/python3.11/site-packages (from requests->transformers) (3.10)\n",
      "Requirement already satisfied: urllib3<3,>=1.21.1 in /opt/app-root/lib64/python3.11/site-packages (from requests->transformers) (1.26.20)\n",
      "Requirement already satisfied: certifi>=2017.4.17 in /opt/app-root/lib64/python3.11/site-packages (from requests->transformers) (2024.8.30)\n",
      "\n",
      "\u001b[1m[\u001b[0m\u001b[34;49mnotice\u001b[0m\u001b[1;39;49m]\u001b[0m\u001b[39;49m A new release of pip is available: \u001b[0m\u001b[31;49m23.2.1\u001b[0m\u001b[39;49m -> \u001b[0m\u001b[32;49m24.3.1\u001b[0m\n",
      "\u001b[1m[\u001b[0m\u001b[34;49mnotice\u001b[0m\u001b[1;39;49m]\u001b[0m\u001b[39;49m To update, run: \u001b[0m\u001b[32;49mpip install --upgrade pip\u001b[0m\n",
      "Note: you may need to restart the kernel to use updated packages.\n"
     ]
    }
   ],
   "source": [
    "pip install --upgrade transformers"
   ]
  },
  {
   "cell_type": "code",
   "execution_count": 2,
   "id": "abd9e9c5-80dc-4efd-b3ea-1d3179992ba5",
   "metadata": {},
   "outputs": [],
   "source": [
    "from transformers import AutoTokenizer\n",
    "\n",
    "model_path = \"./flan\"\n",
    "tokenizer = AutoTokenizer.from_pretrained(model_path)\n"
   ]
  },
  {
   "cell_type": "code",
   "execution_count": 7,
   "id": "3c199d8d-347e-42ac-b36c-980e9af3a2eb",
   "metadata": {},
   "outputs": [
    {
     "name": "stdout",
     "output_type": "stream",
     "text": [
      "Generated Output: The feature reflects that the client has a low annual income. This means that the client does not have a good financial stability and cash flow, which increases default risk.\n"
     ]
    }
   ],
   "source": [
    "import requests\n",
    "import torch\n",
    "from transformers import AutoTokenizer\n",
    "\n",
    "# Initialize tokenizer\n",
    "model_path = \"./flan\"\n",
    "tokenizer = AutoTokenizer.from_pretrained(model_path)\n",
    "\n",
    "# Define inference URL\n",
    "infer_url = \"http://modelmesh-serving.llm.svc.cluster.local:8008/v2/models/t5-pytorch/infer\"\n",
    "\n",
    "# Test input text\n",
    "input_text = \"Instruction: Explain the feature.\\nInput: ANNUAL_INCOME_POSITIVE\"\n",
    "\n",
    "# Tokenize the input\n",
    "tokenized_input = tokenizer(\n",
    "    input_text,\n",
    "    return_tensors=\"pt\",\n",
    "    max_length=128,\n",
    "    padding=\"max_length\",\n",
    "    truncation=True\n",
    ")\n",
    "\n",
    "# Extract tokenized tensors\n",
    "input_ids = tokenized_input[\"input_ids\"]\n",
    "attention_mask = tokenized_input[\"attention_mask\"]\n",
    "\n",
    "device = torch.device(\"cuda\" if torch.cuda.is_available() else \"cpu\")\n",
    "input_ids = input_ids.to(device)\n",
    "attention_mask = attention_mask.to(device)\n",
    "\n",
    "# Initialize decoder input IDs with <pad> token\n",
    "decoder_input_ids = torch.tensor([[tokenizer.pad_token_id]], device=device)\n",
    "\n",
    "# Iterative decoding\n",
    "max_length = 80  # Maximum generation length\n",
    "generated_ids = []\n",
    "\n",
    "for _ in range(max_length):\n",
    "    # Prepare payload for the current step\n",
    "    payload = {\n",
    "        \"inputs\": [\n",
    "            {\n",
    "                \"name\": \"input_ids\",\n",
    "                \"shape\": list(input_ids.shape),\n",
    "                \"datatype\": \"INT64\",\n",
    "                \"data\": input_ids.flatten().tolist()\n",
    "            },\n",
    "            {\n",
    "                \"name\": \"attention_mask\",\n",
    "                \"shape\": list(attention_mask.shape),\n",
    "                \"datatype\": \"INT64\",\n",
    "                \"data\": attention_mask.flatten().tolist()\n",
    "            },\n",
    "            {\n",
    "                \"name\": \"decoder_input_ids\",\n",
    "                \"shape\": list(decoder_input_ids.shape),\n",
    "                \"datatype\": \"INT64\",\n",
    "                \"data\": decoder_input_ids.flatten().tolist()\n",
    "            }\n",
    "        ]\n",
    "    }\n",
    "\n",
    "    # Send POST request\n",
    "    headers = {\"Content-Type\": \"application/json\"}\n",
    "    response = requests.post(infer_url, json=payload, headers=headers, verify=False)\n",
    "\n",
    "    if response.status_code == 200:\n",
    "        response_data = response.json()\n",
    "        logits = response_data[\"outputs\"][0][\"data\"]\n",
    "        logits_tensor = torch.tensor(logits, device=device).view(1, -1, 32128)\n",
    "\n",
    "        # Get the next token\n",
    "        next_token_id = torch.argmax(logits_tensor[:, -1, :], dim=-1)\n",
    "        generated_ids.append(next_token_id.item())\n",
    "\n",
    "        # Break if EOS token is generated\n",
    "        if next_token_id.item() == tokenizer.eos_token_id:\n",
    "            break\n",
    "\n",
    "        # Update decoder_input_ids for the next iteration\n",
    "        decoder_input_ids = torch.cat([decoder_input_ids, next_token_id.unsqueeze(0)], dim=-1)\n",
    "\n",
    "    else:\n",
    "        print(f\"Error {response.status_code}: {response.text}\")\n",
    "        break\n",
    "\n",
    "# Decode the generated IDs to text\n",
    "generated_text = tokenizer.decode(generated_ids, skip_special_tokens=True)\n",
    "print(\"Generated Output:\", generated_text)\n"
   ]
  },
  {
   "cell_type": "code",
   "execution_count": null,
   "id": "51554fde-650c-4420-a361-b2fdb0529cbe",
   "metadata": {},
   "outputs": [],
   "source": []
  },
  {
   "cell_type": "code",
   "execution_count": null,
   "id": "f200e4ed-1194-430f-b574-b9f0d01c265d",
   "metadata": {},
   "outputs": [],
   "source": []
  }
 ],
 "metadata": {
  "kernelspec": {
   "display_name": "Python 3.11",
   "language": "python",
   "name": "python3"
  },
  "language_info": {
   "codemirror_mode": {
    "name": "ipython",
    "version": 3
   },
   "file_extension": ".py",
   "mimetype": "text/x-python",
   "name": "python",
   "nbconvert_exporter": "python",
   "pygments_lexer": "ipython3",
   "version": "3.11.7"
  }
 },
 "nbformat": 4,
 "nbformat_minor": 5
}
